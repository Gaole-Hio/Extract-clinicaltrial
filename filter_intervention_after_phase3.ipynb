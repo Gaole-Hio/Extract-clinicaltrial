{
 "cells": [
  {
   "cell_type": "code",
   "execution_count": 6,
   "metadata": {},
   "outputs": [
    {
     "name": "stdout",
     "output_type": "stream",
     "text": [
      "['ipilimumab', 'futuximab', 'tocilizumab', 'spartalizumab', 'teclistamab', 'envalfolimab', 'pamrevlumab', 'camrelizumab', 'cetrelimab', 'becavizumab', 'envafolimab', 'cosibelimab', 'carrelizumab', 'socazolimab', 'retifanlimab', 'ociperlimab', 'luveltamab', 'bevacizumab', 'toripalimab', 'alnuctamab', 'depatuxizumab', 'tislelizumab', 'mab', 'prolgolimab', 'vibostolimab', 'pablizumab', 'isatuximab', 'parstuzumab', 'ezabenlimab', 'amivantamab', 'monalizumab', 'tilelizumab', 'sacituzumab', 'panitumumab', 'magrolimab', 'livmoniplimab', 'favezelimab', 'oregovomab', 'avelumab', 'daratumumab', 'blinatumomab', 'girentuximab', 'tanezumab', 'balstilimab', 'relatlimab', 'gemtuzumab', 'glofitamab', 'adalimumab', 'mirvetuximab', 'olaratumab', 'olokizumab', 'tilesizumab', 'quavonlimab', 'linvoseltamab', 'andecaliximab', 'telisotuzumab', 'dinutuximab', 'tiragolumab', 'budigalimab', 'tebotelimab', 'sintilimab', 'enfortumab', 'ifinatamab', 'ranibizumab', 'cobolimab', 'oleclumab', 'nofazinlimab', 'canakinumab', 'gentuximab', 'fianlimab', 'brentuximab', 'bavituximab', 'lenzilumab', 'polatuzumab', 'belantamab', 'penpulimab', 'patuzumab', 'ibritumomab', 'nivolumab', 'datopotamab', 'zimberelimab', 'elranatamab', 'imab', 'pulocimab', 'denosumab', 'carrellizumab', 'elotuzumab', 'dostarlimab', 'vedolizumab', 'cmab', 'serplulimab', 'ivonescimab', 'zilovertamab', 'sugemalimab', 'rulonilimab', 'adebrelimab', 'tafasitamab', 'xintilimab', 'talquetamab', 'rituximab', 'modotuximab', 'talacotuzumab', 'upifitimab', 'envolimab', 'pertuzumab', 'cadonilimab', 'inotuzumab', 'tociluzumab', 'abelacimab', 'cetuximab', 'bemarituzumab', 'tifcemalimab', 'nimotuzumab', 'ublituximab', 'inetetamab', 'epcoritamab', 'emapalumab', 'trastuzumab', 'guselkumab', 'visilizumab', 'botensilimab', 'tisotumab', 'sotrovimab', 'margetuximab', 'tarlatamab', 'omburtamab', 'zolbetuximab', 'enoblituzumab', 'loncastuximab', 'cemiplimab', 'benralizumab', 'zanidatamab', 'feladilimab', 'rituxumab', 'bevazizumab', 'mosunetuzumab', 'triprilimab', 'inebilizumab', 'domvanalimab', 'atezolizumab', 'pembrolizumab', 'carelizumab', 'lemzoparlimab', 'obinutuzumab', 'catumaxomab', 'emactuzumab', 'rovalpituzumab', 'petosemtamab', 'tremelimumab', 'disitamab', 'ramucirumab', 'utomilumab', 'faricimab', 'odronextamab', 'durvalumab']\n",
      "155\n"
     ]
    }
   ],
   "source": [
    "import pandas as pd\n",
    "import re\n",
    "\n",
    "# Load the CSV file\n",
    "file_path = 'output/Phase3/phase3_result.csv'\n",
    "# file_path = 'output/Phase3/phase3_result_carcinoma.csv'\n",
    "\n",
    "data = pd.read_csv(file_path)\n",
    "\n",
    "# Display the contents of the \"intervention_name\" column\n",
    "intervention_names = data['intervention_name'].unique()\n",
    "\n",
    "# # Extract words ending with 'mab' from each intervention name using regex\n",
    "mab_interventions = []\n",
    "for name in intervention_names:\n",
    "    if isinstance(name, str):\n",
    "        # Find all words ending with 'mab' using regex\n",
    "        matches = re.findall(r'\\b\\w*mab\\b', name.lower())\n",
    "        mab_interventions.extend(matches)\n",
    "\n",
    "# Get unique values from the filtered list\n",
    "unique_mab_interventions = list(set(mab_interventions))\n",
    "\n",
    "print(unique_mab_interventions)\n",
    "print(len(unique_mab_interventions))"
   ]
  },
  {
   "cell_type": "code",
   "execution_count": 7,
   "metadata": {},
   "outputs": [],
   "source": [
    "marketed_and_direct_drug = ['Tecartus', 'Kadcyla', 'Proleukin', 'Rybrevant', 'Tecentriq', 'Bavencio', 'Yescarta', 'Blenrep', 'Avastin', 'Mvasi', 'Zirabev', 'Blincyto', 'Adcetris', 'Libtayo', 'Erbitux', 'Carvykti', 'Darzalex', 'Darzalex Faspro', 'Jemperli', 'Imfinzi', 'Empliciti', 'Elrexfio', 'Padcev', 'Epkinly', 'Enhertu', 'Mylotarg', 'Columvi', 'Zevalin', 'Abecma', 'Besponsa', 'Yervoy', 'Sarclisa', 'Breyanzi', 'Zynlonta', 'Margenza', 'Elahere', 'Poteligeo', 'Lunsumio', 'Adstiladrin', 'Danyelza', 'Portrazza', 'Opdivo', 'Opdualag', 'Gazyva', 'Gazyvaro', 'Arzerra', 'Vectibix', 'Sylatron', 'Keytruda', 'Perjeta', 'Phesgo', 'Polivy', 'Cyramza', 'Zynyz', 'Blitzima', 'Riximyo', 'Rituxan', 'MabThera', 'Rixathon', 'Truxima', 'Trodelvy', 'Sylvant', 'Provenge', 'Minjuvi', 'Monjuvi', 'Elzonris', 'Imlygic', 'Talvey', 'Kimmtrak', 'Tecvayli', 'Kymriah', 'Tivdak', 'Loqtorzi', 'Herceptin', 'Kanjinti', 'Herzuma', 'Ontruzant', 'Ogivri', 'Trazimera', 'Zercepac', 'Herceptin Hylecta', 'Imjudo', 'Zaltrap', 'Brexucabtagene autoleucel', 'Brexucabtagene', 'Ado-trastuzumab emtansine', 'trastuzumab', 'Aldesleukin', 'Amivantamab-vmjw', 'Atezolizumab', 'Amivantamab', 'Avelumab', 'Axicabtagene ciloleucel', 'Axicabtagene', 'Belantamab Mafodotin-blmf', 'Belantamb', 'Bevacizumab', 'Bevacizumab-awwb', 'Bevacizumab-bvzr', 'Blinatumomab', 'Brentuximab Vedotin', 'Brentuximab', 'Cemiplimab-rwlc', 'Cemiplimab', 'Cetuximab', 'Ciltacabtagene autoleucel', 'Ciltacabtagene', 'Daratumumab', 'Daratumumab and hyaluronidase-fihj', 'Daratumumab', 'Dostarlimab-gxly', 'Dostarlimab', 'Durvalumab', 'Elotuzumab', 'Elranatamab-bcmm', 'Elranatamab', 'Enfortumab Vedotin-ejfv', 'Enfortumab', 'Epcoritamab-bysp', 'Epcoritamab', 'Fam-trastuzumab deruxtecan-nxki', 'Gemtuzumab Ozogamicin', 'Gemtuzumab', 'Glofitamab-gxbm', 'Glofitamab', 'Ibritumomab Tiuxetan', 'Ibritumomab', 'Idecabtagene Vicleucel', 'Inotuzumab Ozogamicin', 'Inotuzumab', 'Ipilimumab', 'Isatuximab-irfc', 'Isatuximab', 'Lisocabtagene Maraleucel', 'Loncastuximab tesirine-lpy', 'Loncastuximab', 'Margetuximab-cmkb', 'Margetuximab', 'Mirvetuximab soravtansine-gynx', 'Mirvetuximab', 'Mogamulizumab', 'Mosunetuzumab-axgb', 'Mosunetuzumab', 'Nadofaragene firadenovec-vncg', 'Naxitamab', 'Necitumumab', 'Nivolumab', 'Nivolumab and relatlimab-rmbw', 'relatlimab', 'Obinutuzumab', 'Ofatumumab', 'Panitumumab', 'Peginterferon alfa-2b', 'Pembrolizumab', 'Pertuzumab', 'Pertuzumab, Trastuzumab, hyaluronidase-zzxf combination', 'Polatuzumab Vedotin-Piiq', 'Polatuzumab', 'Ramucirumab', 'Retifanlimab-dlwr', 'Retifanlimab', 'Rituximab', 'Rituximab-abbs', 'Sacituzumab Govitecan-hziy', 'Sacituzumab', 'Siltuximab', 'Sipuleucel-T', 'Tafasitamab', 'Tafasitamab-cxix', 'Tagraxofusp-erzs', 'Talimogene laherparepvec', 'Talquetamab-tgvs', 'Talquetamab', 'Tebentafusp-tebn', 'Teclistamab-cpyv', 'Teclistamab', 'Tisagenlecleucel', 'Tisotumab Vedotin-tftv', 'Tisotumab', 'Toripalimab-tpzi', 'Toripalimab', 'Trastuzumab', 'Trastuzumab and Hyaluronidase', 'Tremelimumab-actl', 'Tremelimumab' , 'ziv-Aflibercept']"
   ]
  },
  {
   "cell_type": "code",
   "execution_count": 8,
   "metadata": {},
   "outputs": [
    {
     "name": "stdout",
     "output_type": "stream",
     "text": [
      "['futuximab', 'tocilizumab', 'spartalizumab', 'envalfolimab', 'pamrevlumab', 'camrelizumab', 'cetrelimab', 'becavizumab', 'envafolimab', 'cosibelimab', 'carrelizumab', 'socazolimab', 'ociperlimab', 'luveltamab', 'alnuctamab', 'depatuxizumab', 'tislelizumab', 'mab', 'prolgolimab', 'vibostolimab', 'pablizumab', 'parstuzumab', 'ezabenlimab', 'monalizumab', 'tilelizumab', 'magrolimab', 'livmoniplimab', 'favezelimab', 'oregovomab', 'girentuximab', 'tanezumab', 'balstilimab', 'adalimumab', 'olaratumab', 'olokizumab', 'tilesizumab', 'quavonlimab', 'linvoseltamab', 'andecaliximab', 'telisotuzumab', 'dinutuximab', 'tiragolumab', 'budigalimab', 'tebotelimab', 'sintilimab', 'ifinatamab', 'ranibizumab', 'cobolimab', 'oleclumab', 'nofazinlimab', 'canakinumab', 'gentuximab', 'fianlimab', 'bavituximab', 'lenzilumab', 'belantamab', 'penpulimab', 'patuzumab', 'datopotamab', 'zimberelimab', 'imab', 'pulocimab', 'denosumab', 'carrellizumab', 'vedolizumab', 'cmab', 'serplulimab', 'ivonescimab', 'zilovertamab', 'sugemalimab', 'rulonilimab', 'adebrelimab', 'xintilimab', 'modotuximab', 'talacotuzumab', 'upifitimab', 'envolimab', 'cadonilimab', 'tociluzumab', 'abelacimab', 'bemarituzumab', 'tifcemalimab', 'nimotuzumab', 'ublituximab', 'inetetamab', 'emapalumab', 'guselkumab', 'visilizumab', 'botensilimab', 'sotrovimab', 'tarlatamab', 'omburtamab', 'zolbetuximab', 'enoblituzumab', 'benralizumab', 'zanidatamab', 'feladilimab', 'rituxumab', 'bevazizumab', 'triprilimab', 'inebilizumab', 'domvanalimab', 'carelizumab', 'lemzoparlimab', 'catumaxomab', 'emactuzumab', 'rovalpituzumab', 'petosemtamab', 'disitamab', 'utomilumab', 'faricimab', 'odronextamab']\n",
      "112\n"
     ]
    }
   ],
   "source": [
    "# Convert both lists to lower case for comparison\n",
    "marketed_drugs_list_lower = [drug.lower() for drug in marketed_and_direct_drug]\n",
    "compound_names = [name for name in unique_mab_interventions if name.lower() not in marketed_drugs_list_lower]\n",
    "\n",
    "compound_names_df = pd.DataFrame(compound_names, columns=['Compound Names'])\n",
    "output_path = 'compound_names_cancer.csv'\n",
    "# output_path = 'compound_names_carcinoma.csv'\n",
    "\n",
    "compound_names_df.to_csv(output_path, index=False)\n",
    "\n",
    "print(compound_names)\n",
    "print(len(compound_names))"
   ]
  },
  {
   "cell_type": "code",
   "execution_count": 9,
   "metadata": {},
   "outputs": [
    {
     "name": "stdout",
     "output_type": "stream",
     "text": [
      "Filtered data saved to output/Phase3/phase3_result_mab.csv\n",
      "           nctId   startDate  \\\n",
      "58   NCT03427827  2018-07-02   \n",
      "59   NCT03412773  2017-12-28   \n",
      "130  NCT04943627  2021-08-02   \n",
      "214  NCT04453826  2020-09-01   \n",
      "232  NCT04736173  2021-02-08   \n",
      "\n",
      "                                             arm_label           arm_type  \\\n",
      "58                          Adjuvant PD-1 antibody arm       EXPERIMENTAL   \n",
      "59   Arm A: Tislelizumab & Safety Run-In Substudy [...       EXPERIMENTAL   \n",
      "130                 Monotherapy with Balstilimab (BAL)       EXPERIMENTAL   \n",
      "214           Camrelizumab plus chemo-radiotherapy arm       EXPERIMENTAL   \n",
      "232  Arm C - Study Part 1 (Domvanalimab + Zimbereli...  ACTIVE_COMPARATOR   \n",
      "\n",
      "                                       arm_description  \\\n",
      "58   Patients randomized to this arm will receive P...   \n",
      "59                                                 NaN   \n",
      "130   300 mg IV once every 3 weeks for up to 24 months   \n",
      "214  3 cycles of gemcitabin and cisplatin induction...   \n",
      "232  Participants will receive zimberelimab in comb...   \n",
      "\n",
      "                             intervention_names intervention_type  \\\n",
      "58                           Drug: Camrelizumab              DRUG   \n",
      "59                           Drug: Tislelizumab              DRUG   \n",
      "130                     Drug: Balstilimab (BAL)              DRUG   \n",
      "214  Drug: Camrelizumab plus chemo-radiotherapy              DRUG   \n",
      "232      Drug: Domvanalimab, Drug: Zimberelimab              DRUG   \n",
      "\n",
      "                        intervention_name  \\\n",
      "58                           Camrelizumab   \n",
      "59                           Tislelizumab   \n",
      "130                     Balstilimab (BAL)   \n",
      "214  Camrelizumab plus chemo-radiotherapy   \n",
      "232                          Domvanalimab   \n",
      "\n",
      "                              intervention_description  \\\n",
      "58   Camrelizumab is an antibody targeting PD-1 dev...   \n",
      "59   200 mg once every 3 weeks (Q3W), intravenous d...   \n",
      "130                      Anti-PD-1 Monoclonal antibody   \n",
      "214  1. Camrelizumab: 200 mg, intravenous injection...   \n",
      "232  Domvanalimab is a humanized monoclonal antibod...   \n",
      "\n",
      "                               intervention_arm_labels  \\\n",
      "58                          Adjuvant PD-1 antibody arm   \n",
      "59   Arm A: Tislelizumab & Safety Run-In Substudy [...   \n",
      "130                 Monotherapy with Balstilimab (BAL)   \n",
      "214           Camrelizumab plus chemo-radiotherapy arm   \n",
      "232  Arm C - Study Part 1 (Domvanalimab + Zimbereli...   \n",
      "\n",
      "    intervention_other_names mab_intervention  \n",
      "58                  SHR-1210     camrelizumab  \n",
      "59                  BGB-A317     tislelizumab  \n",
      "130      AGEN2034, Anti-PD-1      balstilimab  \n",
      "214                      NaN     camrelizumab  \n",
      "232                    AB154     domvanalimab  \n"
     ]
    }
   ],
   "source": [
    "# Function to find mab interventions in a given intervention name\n",
    "def find_mab_interventions(intervention_name):\n",
    "    if isinstance(intervention_name, str):\n",
    "        return ', '.join([word for word in intervention_name.lower().split() if word.lower() in compound_names])\n",
    "    return ''\n",
    "\n",
    "# Filter rows where 'intervention_name' contains any of the words ending with 'mab'\n",
    "data['mab_intervention'] = data['intervention_name'].apply(find_mab_interventions)\n",
    "filtered_data = data[data['mab_intervention'] != '']\n",
    "\n",
    "# Save the filtered DataFrame to a new CSV file\n",
    "filtered_output_file_path = 'output/Phase3/phase3_result_mab.csv'\n",
    "# filtered_output_file_path = 'output/Phase3/phase3_result_mab_carcinoma.csv'\n",
    "\n",
    "filtered_data.to_csv(filtered_output_file_path, index=False)\n",
    "\n",
    "print(f\"Filtered data saved to {filtered_output_file_path}\")\n",
    "print(filtered_data.head())"
   ]
  },
  {
   "cell_type": "code",
   "execution_count": 10,
   "metadata": {},
   "outputs": [
    {
     "name": "stdout",
     "output_type": "stream",
     "text": [
      "104\n"
     ]
    }
   ],
   "source": [
    "# Number of Phase 3 clinical trials remaining\n",
    "unique_mab = list(set(filtered_data['mab_intervention']))\n",
    "\n",
    "print(len(unique_mab))\n"
   ]
  },
  {
   "cell_type": "code",
   "execution_count": null,
   "metadata": {},
   "outputs": [],
   "source": []
  }
 ],
 "metadata": {
  "kernelspec": {
   "display_name": "Python 3",
   "language": "python",
   "name": "python3"
  },
  "language_info": {
   "codemirror_mode": {
    "name": "ipython",
    "version": 3
   },
   "file_extension": ".py",
   "mimetype": "text/x-python",
   "name": "python",
   "nbconvert_exporter": "python",
   "pygments_lexer": "ipython3",
   "version": "3.12.0"
  }
 },
 "nbformat": 4,
 "nbformat_minor": 2
}
