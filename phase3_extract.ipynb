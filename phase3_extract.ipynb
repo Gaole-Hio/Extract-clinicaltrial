{
 "cells": [
  {
   "cell_type": "code",
   "execution_count": 9,
   "metadata": {},
   "outputs": [],
   "source": [
    "import json\n",
    "import os\n",
    "import re\n",
    "import pandas as pd"
   ]
  },
  {
   "cell_type": "code",
   "execution_count": 10,
   "metadata": {},
   "outputs": [],
   "source": [
    "# Get current dictionary\n",
    "current_directory = os.getcwd()\n",
    "file_path = os.path.join(current_directory, 'data/ctg-studies_cancer.json')\n",
    "# file_path = os.path.join(current_directory, 'data/ctg-studies_carcinoma.json')\n",
    "\n",
    "with open(file_path, 'r', encoding='utf-8') as file:\n",
    "    data = json.load(file) "
   ]
  },
  {
   "cell_type": "markdown",
   "metadata": {},
   "source": [
    "## Filter rows with keywords in detailed_description, official_title, keywords, intervention_names, and intervention_other_names"
   ]
  },
  {
   "cell_type": "code",
   "execution_count": 11,
   "metadata": {},
   "outputs": [],
   "source": [
    "# Set keyword to be removed\n",
    "keywords_to_remove = ['gene', 'virus', 'cell therapy']\n",
    "\n",
    "keywords_to_remove = [keyword.lower() for keyword in keywords_to_remove]"
   ]
  },
  {
   "cell_type": "code",
   "execution_count": 12,
   "metadata": {},
   "outputs": [
    {
     "name": "stdout",
     "output_type": "stream",
     "text": [
      "Original: 4621, filtered: 3868\n"
     ]
    }
   ],
   "source": [
    "# Convert to lower case and remove special character\n",
    "def preprocess_text(text):\n",
    "    return re.sub(r'\\W+', ' ', text.lower())\n",
    "\n",
    "# Filter the trial list\n",
    "filtered_data = []\n",
    "for item in data:\n",
    "    # Check the detailed_description, official_title, and keywords\n",
    "    detailed_description = preprocess_text(item['protocolSection']['descriptionModule'].get('detailedDescription', \"\"))\n",
    "    official_title = preprocess_text(item['protocolSection']['identificationModule'].get('officialTitle', \"\"))\n",
    "    keywords = [preprocess_text(keyword) for keyword in item['protocolSection']['conditionsModule'].get('keywords', [])]\n",
    "\n",
    "    # Check the interventionNames and otherNames\n",
    "    interventions = item['protocolSection']['armsInterventionsModule'].get('interventions', [])\n",
    "    intervention_names = [preprocess_text(intervention.get('name', \"\")) for intervention in interventions]\n",
    "    other_names = [preprocess_text(name) for intervention in interventions for name in intervention.get('otherNames', [])]\n",
    "\n",
    "    # check if the keyword exist\n",
    "    if not any(keyword in detailed_description for keyword in keywords_to_remove) and \\\n",
    "       not any(keyword in official_title for keyword in keywords_to_remove) and \\\n",
    "       not any(keyword in keyword_item for keyword_item in keywords for keyword in keywords_to_remove) and \\\n",
    "       not any(keyword in intervention_name for intervention_name in intervention_names for keyword in keywords_to_remove) and \\\n",
    "       not any(keyword in other_name for other_name in other_names for keyword in keywords_to_remove):\n",
    "        filtered_data.append(item)\n",
    "\n",
    "print(f\"Original: {len(data)}, filtered: {len(filtered_data)}\")\n"
   ]
  },
  {
   "cell_type": "markdown",
   "metadata": {},
   "source": [
    "## Extract the sections of 'arms and intervention' that meet the conditions"
   ]
  },
  {
   "cell_type": "code",
   "execution_count": 13,
   "metadata": {},
   "outputs": [],
   "source": [
    "# Extract the arms and intervention part\n",
    "all_arms_interventions = []\n",
    "\n",
    "# Filter these item without 'armsInterventionsModule'\n",
    "for entry in filtered_data:\n",
    "    if 'protocolSection' in entry and 'armsInterventionsModule' in entry['protocolSection']:\n",
    "        arms_interventions_module = entry['protocolSection']['armsInterventionsModule']\n",
    "        startDate = entry['protocolSection']['statusModule'].get('startDateStruct', {}).get('date', 'Unknown Date')\n",
    "        nct_id = entry['protocolSection']['identificationModule']['nctId']\n",
    "        arm_groups = arms_interventions_module.get('armGroups', [])\n",
    "        interventions = arms_interventions_module.get('interventions', [])\n",
    "\n",
    "        # print(nct_id, len(arm_groups), len(interventions))\n",
    "        \n",
    "        # Build the dictionary for arms and interventions\n",
    "        arm_dict = {}\n",
    "        for arm in arm_groups:\n",
    "            arm_dict[arm['label']] = {\n",
    "                'nctId': nct_id,\n",
    "                'arm_label': arm.get('label', ''),\n",
    "                'arm_type': arm.get('type', ''),\n",
    "                'arm_description': arm.get('description', ''),\n",
    "                'intervention_names': ', '.join(arm.get('interventionNames', []))\n",
    "            }\n",
    "        \n",
    "        for intervention in interventions:\n",
    "            for arm_label in intervention.get('armGroupLabels', []):\n",
    "                if arm_label in arm_dict:\n",
    "                    row = {\n",
    "                        'nctId': nct_id,\n",
    "                        'startDate': startDate,\n",
    "                        'arm_label': arm_dict[arm_label]['arm_label'],\n",
    "                        'arm_type': arm_dict[arm_label]['arm_type'],\n",
    "                        'arm_description': arm_dict[arm_label]['arm_description'],\n",
    "                        'intervention_names': arm_dict[arm_label]['intervention_names'],\n",
    "                        'intervention_type': intervention.get('type', ''),\n",
    "                        'intervention_name': intervention.get('name', ''),\n",
    "                        'intervention_description': intervention.get('description', ''),\n",
    "                        'intervention_arm_labels': ', '.join(intervention.get('armGroupLabels', [])),\n",
    "                        'intervention_other_names': ', '.join(intervention.get('otherNames', []))\n",
    "                    }\n",
    "                    all_arms_interventions.append(row)"
   ]
  },
  {
   "cell_type": "markdown",
   "metadata": {},
   "source": [
    "## Filter the rows without dosage information(\"mg\")"
   ]
  },
  {
   "cell_type": "code",
   "execution_count": 14,
   "metadata": {},
   "outputs": [],
   "source": [
    "# Filter these row with dosage information\n",
    "# arms_interventions_with_dosage = [\n",
    "#     entry for entry in all_arms_interventions\n",
    "#     if 'mg' in entry['arm_description'] or 'mg' in entry['intervention_description'] or\n",
    "#        'mcg' in entry['arm_description'] or 'mcg' in entry['intervention_description']\n",
    "# ]"
   ]
  },
  {
   "cell_type": "code",
   "execution_count": 15,
   "metadata": {},
   "outputs": [
    {
     "name": "stdout",
     "output_type": "stream",
     "text": [
      "Extracted data saved to c:\\Users\\shj4823\\OneDrive - Takeda\\Desktop\\Cancer Data V4.1_without_dose_mab\\output/Phase3/phase3_result.csv\n"
     ]
    },
    {
     "data": {
      "text/html": [
       "<div>\n",
       "<style scoped>\n",
       "    .dataframe tbody tr th:only-of-type {\n",
       "        vertical-align: middle;\n",
       "    }\n",
       "\n",
       "    .dataframe tbody tr th {\n",
       "        vertical-align: top;\n",
       "    }\n",
       "\n",
       "    .dataframe thead th {\n",
       "        text-align: right;\n",
       "    }\n",
       "</style>\n",
       "<table border=\"1\" class=\"dataframe\">\n",
       "  <thead>\n",
       "    <tr style=\"text-align: right;\">\n",
       "      <th></th>\n",
       "      <th>nctId</th>\n",
       "      <th>startDate</th>\n",
       "      <th>arm_label</th>\n",
       "      <th>arm_type</th>\n",
       "      <th>arm_description</th>\n",
       "      <th>intervention_names</th>\n",
       "      <th>intervention_type</th>\n",
       "      <th>intervention_name</th>\n",
       "      <th>intervention_description</th>\n",
       "      <th>intervention_arm_labels</th>\n",
       "      <th>intervention_other_names</th>\n",
       "    </tr>\n",
       "  </thead>\n",
       "  <tbody>\n",
       "    <tr>\n",
       "      <th>0</th>\n",
       "      <td>NCT03295565</td>\n",
       "      <td>2017-05-07</td>\n",
       "      <td>A: Cabazitaxel</td>\n",
       "      <td>ACTIVE_COMPARATOR</td>\n",
       "      <td>Cabazitaxel 25mg/m2 IV, once every 3 weeks</td>\n",
       "      <td>Drug: Cabazitaxel</td>\n",
       "      <td>DRUG</td>\n",
       "      <td>Cabazitaxel</td>\n",
       "      <td>Cabazitaxel 25mg/m2 IV, once every 3 weeks</td>\n",
       "      <td>A: Cabazitaxel</td>\n",
       "      <td>No other intervention names</td>\n",
       "    </tr>\n",
       "    <tr>\n",
       "      <th>1</th>\n",
       "      <td>NCT03295565</td>\n",
       "      <td>2017-05-07</td>\n",
       "      <td>B: Abiraterone OR Enzalutamide</td>\n",
       "      <td>ACTIVE_COMPARATOR</td>\n",
       "      <td>At physician's discretion:\\n\\nAbiraterone 1000...</td>\n",
       "      <td>Drug: Abiraterone, Drug: Enzalutamide</td>\n",
       "      <td>DRUG</td>\n",
       "      <td>Abiraterone</td>\n",
       "      <td>Abiraterone 1000mg oral, taken daily + Prednis...</td>\n",
       "      <td>B: Abiraterone OR Enzalutamide</td>\n",
       "      <td>No other intervention names</td>\n",
       "    </tr>\n",
       "    <tr>\n",
       "      <th>2</th>\n",
       "      <td>NCT03295565</td>\n",
       "      <td>2017-05-07</td>\n",
       "      <td>B: Abiraterone OR Enzalutamide</td>\n",
       "      <td>ACTIVE_COMPARATOR</td>\n",
       "      <td>At physician's discretion:\\n\\nAbiraterone 1000...</td>\n",
       "      <td>Drug: Abiraterone, Drug: Enzalutamide</td>\n",
       "      <td>DRUG</td>\n",
       "      <td>Enzalutamide</td>\n",
       "      <td>Enzalutamide 160mg oral taken daily</td>\n",
       "      <td>B: Abiraterone OR Enzalutamide</td>\n",
       "      <td>No other intervention names</td>\n",
       "    </tr>\n",
       "    <tr>\n",
       "      <th>3</th>\n",
       "      <td>NCT02628665</td>\n",
       "      <td>2015-10</td>\n",
       "      <td>24 to 48 hours group</td>\n",
       "      <td>EXPERIMENTAL</td>\n",
       "      <td>photosensitizer(photofrin): 2mg/kg, Diomed Sur...</td>\n",
       "      <td>Drug: photosensitizer(photofrin), Device: 630 ...</td>\n",
       "      <td>DRUG</td>\n",
       "      <td>photosensitizer(photofrin)</td>\n",
       "      <td>photosensitizer(photofrin): 2mg/kg</td>\n",
       "      <td>24 to 48 hours group, 48 to 72 hours group</td>\n",
       "      <td>photofrin</td>\n",
       "    </tr>\n",
       "    <tr>\n",
       "      <th>4</th>\n",
       "      <td>NCT02628665</td>\n",
       "      <td>2015-10</td>\n",
       "      <td>48 to 72 hours group</td>\n",
       "      <td>ACTIVE_COMPARATOR</td>\n",
       "      <td>photosensitizer(photofrin): 2mg/kg, Diomed Sur...</td>\n",
       "      <td>Drug: photosensitizer(photofrin), Device: 630 ...</td>\n",
       "      <td>DRUG</td>\n",
       "      <td>photosensitizer(photofrin)</td>\n",
       "      <td>photosensitizer(photofrin): 2mg/kg</td>\n",
       "      <td>24 to 48 hours group, 48 to 72 hours group</td>\n",
       "      <td>photofrin</td>\n",
       "    </tr>\n",
       "  </tbody>\n",
       "</table>\n",
       "</div>"
      ],
      "text/plain": [
       "         nctId   startDate                       arm_label           arm_type  \\\n",
       "0  NCT03295565  2017-05-07                  A: Cabazitaxel  ACTIVE_COMPARATOR   \n",
       "1  NCT03295565  2017-05-07  B: Abiraterone OR Enzalutamide  ACTIVE_COMPARATOR   \n",
       "2  NCT03295565  2017-05-07  B: Abiraterone OR Enzalutamide  ACTIVE_COMPARATOR   \n",
       "3  NCT02628665     2015-10            24 to 48 hours group       EXPERIMENTAL   \n",
       "4  NCT02628665     2015-10            48 to 72 hours group  ACTIVE_COMPARATOR   \n",
       "\n",
       "                                     arm_description  \\\n",
       "0         Cabazitaxel 25mg/m2 IV, once every 3 weeks   \n",
       "1  At physician's discretion:\\n\\nAbiraterone 1000...   \n",
       "2  At physician's discretion:\\n\\nAbiraterone 1000...   \n",
       "3  photosensitizer(photofrin): 2mg/kg, Diomed Sur...   \n",
       "4  photosensitizer(photofrin): 2mg/kg, Diomed Sur...   \n",
       "\n",
       "                                  intervention_names intervention_type  \\\n",
       "0                                  Drug: Cabazitaxel              DRUG   \n",
       "1              Drug: Abiraterone, Drug: Enzalutamide              DRUG   \n",
       "2              Drug: Abiraterone, Drug: Enzalutamide              DRUG   \n",
       "3  Drug: photosensitizer(photofrin), Device: 630 ...              DRUG   \n",
       "4  Drug: photosensitizer(photofrin), Device: 630 ...              DRUG   \n",
       "\n",
       "            intervention_name  \\\n",
       "0                 Cabazitaxel   \n",
       "1                 Abiraterone   \n",
       "2                Enzalutamide   \n",
       "3  photosensitizer(photofrin)   \n",
       "4  photosensitizer(photofrin)   \n",
       "\n",
       "                            intervention_description  \\\n",
       "0         Cabazitaxel 25mg/m2 IV, once every 3 weeks   \n",
       "1  Abiraterone 1000mg oral, taken daily + Prednis...   \n",
       "2                Enzalutamide 160mg oral taken daily   \n",
       "3                 photosensitizer(photofrin): 2mg/kg   \n",
       "4                 photosensitizer(photofrin): 2mg/kg   \n",
       "\n",
       "                      intervention_arm_labels     intervention_other_names  \n",
       "0                              A: Cabazitaxel  No other intervention names  \n",
       "1              B: Abiraterone OR Enzalutamide  No other intervention names  \n",
       "2              B: Abiraterone OR Enzalutamide  No other intervention names  \n",
       "3  24 to 48 hours group, 48 to 72 hours group                    photofrin  \n",
       "4  24 to 48 hours group, 48 to 72 hours group                    photofrin  "
      ]
     },
     "execution_count": 15,
     "metadata": {},
     "output_type": "execute_result"
    }
   ],
   "source": [
    "# Build a dataframe for arms and interventions\n",
    "df = pd.DataFrame(all_arms_interventions)\n",
    "\n",
    "# Output df as csv file\n",
    "output_file_path = os.path.join(current_directory, 'output/Phase3/phase3_result.csv')\n",
    "# output_file_path = os.path.join(current_directory, 'output/Phase3/phase3_result_carcinoma.csv')\n",
    "\n",
    "df.to_csv(output_file_path, index=False)\n",
    "\n",
    "print(f\"Extracted data saved to {output_file_path}\")\n",
    "\n",
    "df.head()"
   ]
  },
  {
   "cell_type": "code",
   "execution_count": 16,
   "metadata": {},
   "outputs": [
    {
     "name": "stdout",
     "output_type": "stream",
     "text": [
      "3861\n"
     ]
    }
   ],
   "source": [
    "unique_nct_ids = set(entry['nctId'] for entry in all_arms_interventions if entry['nctId'])\n",
    "\n",
    "print(len(unique_nct_ids))"
   ]
  },
  {
   "cell_type": "code",
   "execution_count": null,
   "metadata": {},
   "outputs": [],
   "source": []
  }
 ],
 "metadata": {
  "kernelspec": {
   "display_name": "Python 3",
   "language": "python",
   "name": "python3"
  },
  "language_info": {
   "codemirror_mode": {
    "name": "ipython",
    "version": 3
   },
   "file_extension": ".py",
   "mimetype": "text/x-python",
   "name": "python",
   "nbconvert_exporter": "python",
   "pygments_lexer": "ipython3",
   "version": "3.12.0"
  }
 },
 "nbformat": 4,
 "nbformat_minor": 2
}
